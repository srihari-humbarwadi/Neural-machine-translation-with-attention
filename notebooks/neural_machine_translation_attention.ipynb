{
 "cells": [
  {
   "cell_type": "code",
   "execution_count": 1,
   "metadata": {},
   "outputs": [
    {
     "name": "stdout",
     "output_type": "stream",
     "text": [
      "TensorFlow 2.0.0-beta0\n"
     ]
    }
   ],
   "source": [
    "import os\n",
    "import pickle\n",
    "import numpy as np\n",
    "from tqdm import tqdm\n",
    "import tensorflow as tf\n",
    "import matplotlib.pyplot as plt\n",
    "import tensorflow_datasets as tfds\n",
    "from tensorflow.keras.preprocessing.text import Tokenizer\n",
    "from tensorflow.keras.preprocessing.sequence import pad_sequences\n",
    "from tensorflow.keras.layers import Embedding, GRU, Dense \n",
    "print('TensorFlow',tf.__version__)"
   ]
  },
  {
   "cell_type": "markdown",
   "metadata": {},
   "source": [
    "## Loading the dataset using tensorflow_datasets "
   ]
  },
  {
   "cell_type": "code",
   "execution_count": 2,
   "metadata": {},
   "outputs": [],
   "source": [
    "NUM_SAMPLES = 250000\n",
    "dataset = tfds.load(name='wmt_translate_enfr', as_supervised=True)\n",
    "dataset['train'] = dataset['train'].take(NUM_SAMPLES)"
   ]
  },
  {
   "cell_type": "markdown",
   "metadata": {},
   "source": [
    "## Adding start and end sequence markers"
   ]
  },
  {
   "cell_type": "code",
   "execution_count": 3,
   "metadata": {},
   "outputs": [
    {
     "name": "stderr",
     "output_type": "stream",
     "text": [
      "250000it [00:18, 13493.15it/s]\n",
      "1000it [00:00, 11552.14it/s]\n"
     ]
    }
   ],
   "source": [
    "en_sentences = []\n",
    "fr_sentences = []\n",
    "for example in tqdm(dataset['train']):\n",
    "    en_sentences.append(example[0].numpy().decode())\n",
    "    fr_sentences.append('startseq ' + example[1].numpy().decode() + ' endseq')\n",
    "for example in tqdm(dataset['validation']):\n",
    "    en_sentences.append(example[0].numpy().decode())\n",
    "    fr_sentences.append('startseq ' + example[1].numpy().decode() + ' endseq')    "
   ]
  },
  {
   "cell_type": "markdown",
   "metadata": {},
   "source": [
    "## Tokenization"
   ]
  },
  {
   "cell_type": "code",
   "execution_count": 4,
   "metadata": {},
   "outputs": [],
   "source": [
    "en_tk = Tokenizer(num_words=20000)\n",
    "fr_tk = Tokenizer(num_words=20000)\n",
    "\n",
    "with open('en.pkl', 'wb') as f:\n",
    "    pickle.dump(en_tk, f)\n",
    "\n",
    "with open('fr.pkl', 'wb') as f:\n",
    "    pickle.dump(fr_tk, f)\n",
    "    \n",
    "en_tk.fit_on_texts(en_sentences)\n",
    "fr_tk.fit_on_texts(fr_sentences)    "
   ]
  },
  {
   "cell_type": "code",
   "execution_count": 5,
   "metadata": {},
   "outputs": [],
   "source": [
    "# with open('en.pkl', 'rb') as f:\n",
    "#     en_tk = pickle.load( f)\n",
    "\n",
    "# with open('fr.pkl', 'rb') as f:\n",
    "#     fr_tk = pickle.load(f)"
   ]
  },
  {
   "cell_type": "markdown",
   "metadata": {},
   "source": [
    "## Visualizing sequence lenghts"
   ]
  },
  {
   "cell_type": "code",
   "execution_count": 6,
   "metadata": {},
   "outputs": [
    {
     "name": "stdout",
     "output_type": "stream",
     "text": [
      "English sentences : mean = 18.157609561752988, std = 9.575238019518183, max = 156\n",
      "French sentences : mean = 21.158717131474102, std = 10.117183722841965, max = 207\n"
     ]
    },
    {
     "data": {
      "image/png": "[encoded data removed]",
      "text/plain": [
       "<Figure size 432x288 with 1 Axes>"
      ]
     },
     "metadata": {
      "needs_background": "light"
     },
     "output_type": "display_data"
    },
    {
     "data": {
      "image/png": "[encoded data removed]",
      "text/plain": [
       "<Figure size 432x288 with 1 Axes>"
      ]
     },
     "metadata": {
      "needs_background": "light"
     },
     "output_type": "display_data"
    }
   ],
   "source": [
    "en_lens = [len(x.split()) for x in en_sentences]\n",
    "fr_lens = [len(x.split()) for x in fr_sentences]\n",
    "\n",
    "plt.figure()\n",
    "plt.hist(en_lens)\n",
    "\n",
    "plt.figure()\n",
    "plt.hist(fr_lens)\n",
    "\n",
    "en_mean = np.mean(en_lens)\n",
    "en_std = np.std(en_lens)\n",
    "fr_mean = np.mean(fr_lens)\n",
    "fr_std = np.std(fr_lens)\n",
    "en_max = np.max(en_lens)\n",
    "fr_max = np.max(fr_lens)\n",
    "\n",
    "print(f'English sentences : mean = {en_mean}, std = {en_std}, max = {en_max}')\n",
    "print(f'French sentences : mean = {fr_mean}, std = {fr_std}, max = {fr_max}')"
   ]
  },
  {
   "cell_type": "code",
   "execution_count": 7,
   "metadata": {},
   "outputs": [],
   "source": [
    "max_sequence_len = 30\n",
    "en_vocab_size = 20000\n",
    "fr_vocab_size =20000"
   ]
  },
  {
   "cell_type": "markdown",
   "metadata": {},
   "source": [
    "## Tokenization and sequence padding"
   ]
  },
  {
   "cell_type": "code",
   "execution_count": 8,
   "metadata": {},
   "outputs": [],
   "source": [
    "def preprocess_en(en):\n",
    "    encoded_en = en_tk.texts_to_sequences(en)\n",
    "    padded_en = pad_sequences(encoded_en, maxlen=max_sequence_len, padding='post', truncating='post')\n",
    "    return padded_en\n",
    "\n",
    "def preprocess_fr(fr):\n",
    "    encoded_fr = fr_tk.texts_to_sequences(fr)\n",
    "    padded_fr = pad_sequences(encoded_fr, maxlen=max_sequence_len, padding='post', truncating='post')\n",
    "    return padded_fr\n",
    "\n",
    "def preprocess_text(en, fr):\n",
    "    return preprocess_en(en.numpy().decode()), preprocess_fr(fr.numpy().decode())"
   ]
  },
  {
   "cell_type": "markdown",
   "metadata": {},
   "source": [
    "## Preparing training dataset"
   ]
  },
  {
   "cell_type": "code",
   "execution_count": 9,
   "metadata": {},
   "outputs": [
    {
     "name": "stderr",
     "output_type": "stream",
     "text": [
      "250000it [00:18, 13374.83it/s]\n"
     ]
    }
   ],
   "source": [
    "train_ds = dataset['train']\n",
    "train_en = []\n",
    "train_fr = []\n",
    "for example in tqdm(train_ds):\n",
    "    train_en.append(example[0].numpy().decode())\n",
    "    train_fr.append('startseq ' + example[1].numpy().decode() + ' endseq')\n",
    "train_en = preprocess_en(train_en)\n",
    "train_fr = preprocess_fr(train_fr)\n",
    "\n",
    "batch_size = 64\n",
    "train_dataset = tf.data.Dataset.from_tensor_slices((train_en, train_fr))\n",
    "train_dataset = train_dataset.cache()\n",
    "train_dataset = train_dataset.shuffle(1024)\n",
    "train_dataset = train_dataset.batch(batch_size, drop_remainder=True)\n",
    "train_dataset = train_dataset.prefetch(tf.data.experimental.AUTOTUNE)"
   ]
  },
  {
   "cell_type": "markdown",
   "metadata": {},
   "source": [
    "## Defininf Encoder, Decoder and Attention models using tf.keras model subclassing"
   ]
  },
  {
   "cell_type": "code",
   "execution_count": 8,
   "metadata": {},
   "outputs": [],
   "source": [
    "class Encoder(tf.keras.Model):\n",
    "    def __init__(self, hidden_size=1024, max_sequence_len=30, batch_size=batch_size, embedding_dim=256, vocab_size=20000):\n",
    "        super(Encoder, self).__init__()\n",
    "        self.embedding_dim = embedding_dim\n",
    "        self.vocab_size = vocab_size\n",
    "        self.max_sequence_len = max_sequence_len\n",
    "        self.hidden_size = hidden_size\n",
    "        self.batch_size = batch_size\n",
    "\n",
    "        self.embedding_layer = Embedding(\n",
    "            input_dim=self.vocab_size, output_dim=self.embedding_dim)\n",
    "        self.GRU_1 = GRU(units=hidden_size, return_sequences=True)\n",
    "        self.GRU_2 = GRU(units=hidden_size,\n",
    "                         return_sequences=True, return_state=True)\n",
    "\n",
    "    def initial_hidden_state(self):\n",
    "        return tf.zeros(shape=(self.batch_size, self.hidden_size))\n",
    "\n",
    "    def call(self, x, initial_state, training=False):\n",
    "        x = self.embedding_layer(x)\n",
    "        x = self.GRU_1(x, initial_state=initial_state)\n",
    "        x, hidden_state = self.GRU_2(x)\n",
    "        return x, hidden_state\n",
    "\n",
    "\n",
    "class Attention(tf.keras.Model):\n",
    "    def __init__(self, hidden_size=256):\n",
    "        super(Attention, self).__init__()\n",
    "        self.fc1 = Dense(units=hidden_size)\n",
    "        self.fc2 = Dense(units=hidden_size)\n",
    "        self.fc3 = Dense(units=1)\n",
    "\n",
    "    def call(self, encoder_output, hidden_state, training=False):\n",
    "        '''hidden_state : h(t-1)'''\n",
    "        y_hidden_state = tf.expand_dims(hidden_state, axis=1)\n",
    "        y_hidden_state = self.fc1(y_hidden_state)\n",
    "        y_enc_out = self.fc2(encoder_output)\n",
    "\n",
    "        y = tf.keras.backend.tanh(y_enc_out + y_hidden_state)\n",
    "        attention_score = self.fc3(y)\n",
    "        attention_weights = tf.keras.backend.softmax(attention_score, axis=1)\n",
    "\n",
    "        context_vector = tf.multiply(encoder_output, attention_weights)\n",
    "        context_vector = tf.reduce_sum(context_vector, axis=1)\n",
    "\n",
    "        return context_vector, attention_weights\n",
    "\n",
    "\n",
    "class Decoder(tf.keras.Model):\n",
    "    def __init__(self, hidden_size=1024, max_sequence_len=30, batch_size=batch_size, embedding_dim=256, vocab_size=20000):\n",
    "        super(Decoder, self).__init__()\n",
    "        self.embedding_dim = embedding_dim\n",
    "        self.vocab_size = vocab_size\n",
    "        self.max_sequence_len = max_sequence_len\n",
    "        self.hidden_size = hidden_size\n",
    "        self.batch_size = batch_size\n",
    "    \n",
    "        self.embedding_layer = Embedding(\n",
    "            input_dim=self.vocab_size, output_dim=self.embedding_dim)\n",
    "        self.GRU = GRU(units=hidden_size,\n",
    "                       return_sequences=True, return_state=True)\n",
    "        self.attention = Attention(hidden_size=self.hidden_size)\n",
    "        self.fc = Dense(units=self.vocab_size)\n",
    "\n",
    "    def initial_hidden_state(self):\n",
    "        return tf.zeros(shape=(self.batch_size, self.hidden_size))\n",
    "\n",
    "    def call(self, x, encoder_output, hidden_state, training=False):\n",
    "        x = self.embedding_layer(x)\n",
    "        context_vector, attention_weights = self.attention(\n",
    "            encoder_output, hidden_state, training=training)\n",
    "        contect_vector = tf.expand_dims(context_vector, axis=1)\n",
    "        x = tf.concat([x, contect_vector], axis=-1)\n",
    "        x, curr_hidden_state = self.GRU(x)\n",
    "        x = tf.reshape(x, shape=[self.batch_size, -1])\n",
    "        x = self.fc(x)\n",
    "        return x, curr_hidden_state, attention_weights"
   ]
  },
  {
   "cell_type": "markdown",
   "metadata": {},
   "source": [
    "## Defining training loop, loss function and optimizer"
   ]
  },
  {
   "cell_type": "code",
   "execution_count": null,
   "metadata": {},
   "outputs": [],
   "source": [
    "loss_object = tf.losses.SparseCategoricalCrossentropy(from_logits=True)\n",
    "optimizer = tf.keras.optimizers.Adam(learning_rate=5e-4)\n",
    "train_accuracy = tf.metrics.SparseCategoricalAccuracy()\n",
    "\n",
    "\n",
    "def loss_function(y_true, y_pred):\n",
    "    loss = loss_object(y_true, y_pred)\n",
    "    mask = 1 - tf.cast(tf.equal(y_true, 0), 'float32')\n",
    "    return tf.reduce_mean(loss * mask)\n",
    "    \n",
    "@tf.function()\n",
    "def training_step(en, fr):    \n",
    "    with tf.GradientTape() as Tape:\n",
    "        encoder_init_state = encoder.initial_hidden_state()\n",
    "        encoder_output, encoder_hidden_state = encoder(en, encoder_init_state, training=True)\n",
    "        decoder_hidden = encoder_hidden_state\n",
    "        loss = 0\n",
    "        acc = []\n",
    "        current_word = tf.expand_dims(fr[:, 0], axis=1)\n",
    "        for word_idx in range(1, max_sequence_len):\n",
    "            next_word = fr[:, word_idx]\n",
    "            logits, decoder_hidden, attention_weights = decoder(current_word, encoder_output, decoder_hidden, training=True)\n",
    "            loss += loss_function(next_word, logits)\n",
    "            acc.append(train_accuracy(next_word, logits))\n",
    "            current_word = tf.expand_dims(next_word, axis=1)\n",
    "    variables = encoder.trainable_variables + decoder.trainable_variables\n",
    "    gradients = Tape.gradient(loss, variables)\n",
    "    optimizer.apply_gradients(zip(gradients, variables))\n",
    "    return loss, tf.reduce_mean(acc)"
   ]
  },
  {
   "cell_type": "code",
   "execution_count": null,
   "metadata": {},
   "outputs": [],
   "source": [
    "encoder = Encoder()\n",
    "decoder = Decoder()\n",
    "checkpoint_dir = 'training'\n",
    "checkpoint_prefix = 'training/ckpt'\n",
    "checkpoint = tf.train.Checkpoint(optimizer=optimizer, encoder=encoder, decoder=decoder)"
   ]
  },
  {
   "cell_type": "markdown",
   "metadata": {},
   "source": [
    "## Training the model"
   ]
  },
  {
   "cell_type": "code",
   "execution_count": 14,
   "metadata": {},
   "outputs": [
    {
     "name": "stdout",
     "output_type": "stream",
     "text": [
      "Epoch 1/6\n",
      "3906/3906 [==============================] - 1052s 269ms/batch - curr_loss: 1.9113 - curr_accuracy: 0.4873\n",
      "Metrics after epoch 1 : Loss => 2.350 | Accuracy => 0.433\n",
      "Epoch 2/6\n",
      "3906/3906 [==============================] - 1033s 264ms/batch - curr_loss: 1.4520 - curr_accuracy: 0.5449\n",
      "Metrics after epoch 2 : Loss => 1.602 | Accuracy => 0.518\n",
      "Epoch 3/6\n",
      "3906/3906 [==============================] - 1033s 264ms/batch - curr_loss: 1.2773 - curr_accuracy: 0.5778\n",
      "Metrics after epoch 3 : Loss => 1.352 | Accuracy => 0.562\n",
      "Epoch 4/6\n",
      "3906/3906 [==============================] - 1035s 265ms/batch - curr_loss: 1.1742 - curr_accuracy: 0.6002\n",
      "Metrics after epoch 4 : Loss => 1.210 | Accuracy => 0.590\n",
      "Epoch 5/6\n",
      "3906/3906 [==============================] - 1033s 265ms/batch - curr_loss: 1.0600 - curr_accuracy: 0.6173\n",
      "Metrics after epoch 5 : Loss => 1.102 | Accuracy => 0.609\n",
      "Epoch 6/6\n",
      "3906/3906 [==============================] - 1033s 264ms/batch - curr_loss: 1.0080 - curr_accuracy: 0.6308\n",
      "Metrics after epoch 6 : Loss => 1.030 | Accuracy => 0.624\n"
     ]
    }
   ],
   "source": [
    "epochs = 6\n",
    "num_steps = NUM_SAMPLES // batch_size\n",
    "for epoch in range(1, epochs + 1):\n",
    "    print(f'Epoch {epoch}/{epochs}')\n",
    "    ep_loss = []\n",
    "    ep_acc = []\n",
    "    progbar = tf.keras.utils.Progbar(target=num_steps, stateful_metrics=[\n",
    "                                     'curr_loss', 'curr_accuracy'], unit_name='batch')\n",
    "\n",
    "    for step, example in enumerate(train_dataset):\n",
    "        en = example[0]\n",
    "        fr = example[1]\n",
    "        loss, acc = training_step(en, fr)\n",
    "        loss /= fr.shape[1]\n",
    "        ep_loss.append(loss)\n",
    "        ep_acc.append(acc)\n",
    "        progbar.update(\n",
    "            step + 1, values=[('curr_loss', loss), ('curr_accuracy', acc)])\n",
    "\n",
    "    if epoch % 2 == 0:\n",
    "        checkpoint.save(file_prefix=checkpoint_prefix)\n",
    "    print(f'Metrics after epoch {epoch} : Loss => {np.mean(ep_loss):.3f} | Accuracy => {np.mean(ep_acc):.3f}')\n",
    "checkpoint.save(file_prefix=checkpoint_prefix)"
   ]
  },
  {
   "cell_type": "code",
   "execution_count": null,
   "metadata": {},
   "outputs": [],
   "source": [
    "checkpoint.restore('training/ckpt-4')"
   ]
  },
  {
   "cell_type": "markdown",
   "metadata": {},
   "source": [
    "## Inference function"
   ]
  },
  {
   "cell_type": "code",
   "execution_count": 121,
   "metadata": {},
   "outputs": [],
   "source": [
    "def translate_sentence(sentence):\n",
    "    sentence = preprocess_en([sentence])\n",
    "    enc_init = tf.zeros(shape=[1, 1024])\n",
    "    enc_out, enc_hidden = encoder(sentence, enc_init)\n",
    "\n",
    "    decoder.batch_size = 1\n",
    "    fr_tk.index_word[0] = ''\n",
    "    decoded = []\n",
    "    att = []\n",
    "    current_word = tf.expand_dims([fr_tk.word_index['startseq']], axis=0) \n",
    "    decoder_hidden = enc_hidden\n",
    "    for word_idx in range(1, max_sequence_len):\n",
    "        logits, decoder_hidden, attention_weights = decoder(current_word, enc_out, decoder_hidden)\n",
    "        decoded_idx = np.argmax(logits)\n",
    "        if fr_tk.index_word[decoded_idx] == 'endseq':\n",
    "            break\n",
    "        decoded.append(fr_tk.index_word[decoded_idx])\n",
    "        att.append(attention_weights.numpy().squeeze())\n",
    "        current_word = tf.expand_dims([decoded_idx], axis=0)\n",
    "    return ' '.join(decoded), att"
   ]
  },
  {
   "cell_type": "markdown",
   "metadata": {},
   "source": [
    "## Translating and visualizing Attention maps"
   ]
  },
  {
   "cell_type": "code",
   "execution_count": 200,
   "metadata": {},
   "outputs": [
    {
     "name": "stdout",
     "output_type": "stream",
     "text": [
      "EN :  There is a misunderstanding\n",
      "FR :  il y a un malentendu\n",
      "------------------------------\n",
      "EN :  what do you want ?\n",
      "FR :  que veux tu\n",
      "------------------------------\n",
      "EN :  are you mad ?\n",
      "FR :  es tu fou\n",
      "------------------------------\n",
      "EN :  state of the art\n",
      "FR :  l'état de l'art\n",
      "------------------------------\n",
      "EN :  the exam is going to be hard\n",
      "FR :  l'examen est difficile\n",
      "------------------------------\n",
      "EN :  do you want to play with me ?\n",
      "FR :  voulez vous jouer avec moi\n",
      "------------------------------\n",
      "EN :  i love you\n",
      "FR :  je t'aime\n",
      "------------------------------\n",
      "EN :  how are you doing ?\n",
      "FR :  comment allez vous\n",
      "------------------------------\n",
      "EN :  i should tell you that i am quite dangerous\n",
      "FR :  je dois vous dire que je suis très dangereux\n",
      "------------------------------\n",
      "EN :  Do you have any idea of how to use it ?\n",
      "FR :  as tu une idée de comment l'utiliser\n",
      "------------------------------\n"
     ]
    },
    {
     "data": {
      "text/plain": [
       "<Figure size 288x360 with 0 Axes>"
      ]
     },
     "metadata": {},
     "output_type": "display_data"
    },
    {
     "data": {
      "image/png": "[encoded data removed]",
      "text/plain": [
       "<Figure size 288x360 with 1 Axes>"
      ]
     },
     "metadata": {
      "needs_background": "light"
     },
     "output_type": "display_data"
    },
    {
     "data": {
      "text/plain": [
       "<Figure size 360x216 with 0 Axes>"
      ]
     },
     "metadata": {},
     "output_type": "display_data"
    },
    {
     "data": {
      "image/png": "[encoded data removed]",
      "text/plain": [
       "<Figure size 480x288 with 1 Axes>"
      ]
     },
     "metadata": {
      "needs_background": "light"
     },
     "output_type": "display_data"
    },
    {
     "data": {
      "text/plain": [
       "<Figure size 288x216 with 0 Axes>"
      ]
     },
     "metadata": {},
     "output_type": "display_data"
    },
    {
     "data": {
      "image/png": "[encoded data removed]",
      "text/plain": [
       "<Figure size 384x288 with 1 Axes>"
      ]
     },
     "metadata": {
      "needs_background": "light"
     },
     "output_type": "display_data"
    },
    {
     "data": {
      "text/plain": [
       "<Figure size 288x216 with 0 Axes>"
      ]
     },
     "metadata": {},
     "output_type": "display_data"
    },
    {
     "data": {
      "image/png": "[encoded data removed]",
      "text/plain": [
       "<Figure size 384x288 with 1 Axes>"
      ]
     },
     "metadata": {
      "needs_background": "light"
     },
     "output_type": "display_data"
    },
    {
     "data": {
      "text/plain": [
       "<Figure size 504x216 with 0 Axes>"
      ]
     },
     "metadata": {},
     "output_type": "display_data"
    },
    {
     "data": {
      "image/png": "[encoded data removed]",
      "text/plain": [
       "<Figure size 672x288 with 1 Axes>"
      ]
     },
     "metadata": {
      "needs_background": "light"
     },
     "output_type": "display_data"
    },
    {
     "data": {
      "text/plain": [
       "<Figure size 576x360 with 0 Axes>"
      ]
     },
     "metadata": {},
     "output_type": "display_data"
    },
    {
     "data": {
      "image/png": "[encoded data removed]",
      "text/plain": [
       "<Figure size 460.8x288 with 1 Axes>"
      ]
     },
     "metadata": {
      "needs_background": "light"
     },
     "output_type": "display_data"
    },
    {
     "data": {
      "text/plain": [
       "<Figure size 216x144 with 0 Axes>"
      ]
     },
     "metadata": {},
     "output_type": "display_data"
    },
    {
     "data": {
      "image/png": "[encoded data removed]",
      "text/plain": [
       "<Figure size 432x288 with 1 Axes>"
      ]
     },
     "metadata": {
      "needs_background": "light"
     },
     "output_type": "display_data"
    },
    {
     "data": {
      "text/plain": [
       "<Figure size 360x216 with 0 Axes>"
      ]
     },
     "metadata": {},
     "output_type": "display_data"
    },
    {
     "data": {
      "image/png": "[encoded data removed]",
      "text/plain": [
       "<Figure size 480x288 with 1 Axes>"
      ]
     },
     "metadata": {
      "needs_background": "light"
     },
     "output_type": "display_data"
    },
    {
     "data": {
      "text/plain": [
       "<Figure size 648x648 with 0 Axes>"
      ]
     },
     "metadata": {},
     "output_type": "display_data"
    },
    {
     "data": {
      "image/png": "[encoded data removed]",
      "text/plain": [
       "<Figure size 288x288 with 1 Axes>"
      ]
     },
     "metadata": {
      "needs_background": "light"
     },
     "output_type": "display_data"
    },
    {
     "data": {
      "text/plain": [
       "<Figure size 792x504 with 0 Axes>"
      ]
     },
     "metadata": {},
     "output_type": "display_data"
    },
    {
     "data": {
      "image/png": "[encoded data removed]",
      "text/plain": [
       "<Figure size 452.571x288 with 1 Axes>"
      ]
     },
     "metadata": {
      "needs_background": "light"
     },
     "output_type": "display_data"
    }
   ],
   "source": [
    "sentences = ['There is a misunderstanding',\n",
    "             'what do you want ?',\n",
    "             'are you mad ?',\n",
    "             'state of the art',\n",
    "             'the exam is going to be hard', \n",
    "             'do you want to play with me ?','i love you', \n",
    "             'how are you doing ?', \n",
    "             'i should tell you that i am quite dangerous', \n",
    "             'Do you have any idea of how to use it ?']\n",
    "\n",
    "for inp_sentence in sentences:\n",
    "    inp_array = inp_sentence.split()\n",
    "    inp_len = len(inp_sentence.split())\n",
    "    trans_sentence, attention_weights = translate_sentence(inp_sentence)\n",
    "    trans_array = trans_sentence.split()\n",
    "    trans_len = len(trans_array)\n",
    "    attention_weights = np.array([x for x in attention_weights])\n",
    "    attention_weights = attention_weights[:trans_len,:inp_len]\n",
    "    plt.figure(figsize=(inp_len, trans_len))\n",
    "    plt.matshow(attention_weights)\n",
    "    plt.xticks(ticks=range(inp_len), labels=inp_array, rotation=90)\n",
    "    plt.yticks(ticks=range(trans_len), labels=trans_array)\n",
    "    print('EN : ', inp_sentence)\n",
    "    print('FR : ', trans_sentence)\n",
    "    print('-'*30)"
   ]
  }
 ],
 "metadata": {
  "kernelspec": {
   "display_name": "Python 3",
   "language": "python",
   "name": "python3"
  },
  "language_info": {
   "codemirror_mode": {
    "name": "ipython",
    "version": 3
   },
   "file_extension": ".py",
   "mimetype": "text/x-python",
   "name": "python",
   "nbconvert_exporter": "python",
   "pygments_lexer": "ipython3",
   "version": "3.6.7"
  }
 },
 "nbformat": 4,
 "nbformat_minor": 2
}
